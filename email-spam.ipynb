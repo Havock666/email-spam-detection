{
 "cells": [
  {
   "cell_type": "code",
   "execution_count": 19,
   "id": "f51b9438-e9c9-465f-a4ff-43a063bd9fe4",
   "metadata": {},
   "outputs": [
    {
     "name": "stdout",
     "output_type": "stream",
     "text": [
      "Requirement already satisfied: requests in c:\\users\\msi gl62m\\appdata\\local\\programs\\python\\python310\\lib\\site-packages (2.32.3)\n",
      "Requirement already satisfied: charset-normalizer<4,>=2 in c:\\users\\msi gl62m\\appdata\\local\\programs\\python\\python310\\lib\\site-packages (from requests) (3.4.1)\n",
      "Requirement already satisfied: idna<4,>=2.5 in c:\\users\\msi gl62m\\appdata\\local\\programs\\python\\python310\\lib\\site-packages (from requests) (3.10)\n",
      "Requirement already satisfied: urllib3<3,>=1.21.1 in c:\\users\\msi gl62m\\appdata\\local\\programs\\python\\python310\\lib\\site-packages (from requests) (2.3.0)\n",
      "Requirement already satisfied: certifi>=2017.4.17 in c:\\users\\msi gl62m\\appdata\\local\\programs\\python\\python310\\lib\\site-packages (from requests) (2025.1.31)\n"
     ]
    }
   ],
   "source": [
    "!pip install requests\n"
   ]
  },
  {
   "cell_type": "code",
   "execution_count": 18,
   "id": "535a8087-81ee-4e5f-9966-7a37ef30804b",
   "metadata": {},
   "outputs": [
    {
     "name": "stdout",
     "output_type": "stream",
     "text": [
      "Accuracy: 0.98\n",
      "              precision    recall  f1-score   support\n",
      "\n",
      "           0       0.99      0.99      0.99       960\n",
      "           1       0.94      0.92      0.93       155\n",
      "\n",
      "    accuracy                           0.98      1115\n",
      "   macro avg       0.96      0.96      0.96      1115\n",
      "weighted avg       0.98      0.98      0.98      1115\n",
      "\n",
      "The message is SPAM with 62.99% confidence.\n"
     ]
    }
   ],
   "source": [
    "import pandas as pd\n",
    "import re\n",
    "import string\n",
    "import joblib\n",
    "from sklearn.feature_extraction.text import TfidfVectorizer\n",
    "from sklearn.model_selection import train_test_split\n",
    "from sklearn.linear_model import LogisticRegression\n",
    "from sklearn.metrics import accuracy_score, classification_report\n",
    "\n",
    "# Function to clean text\n",
    "def clean_text(text):\n",
    "    text = text.lower()  # Convert to lowercase\n",
    "    text = re.sub(r'\\d+', '', text)  # Remove numbers\n",
    "    text = text.translate(str.maketrans('', '', string.punctuation))  # Remove punctuation\n",
    "    text = re.sub(r'\\s+', ' ', text).strip()  # Remove extra spaces\n",
    "    return text\n",
    "\n",
    "# Load dataset\n",
    "df = pd.read_csv(r'C:\\Users\\MSI GL62M\\Downloads\\mail_data.csv')\n",
    "df = df.where(pd.notnull(df), '')\n",
    "\n",
    "# Convert labels (spam → 1, ham → 0)\n",
    "df.loc[df['Category'] == 'spam', 'Category'] = 1\n",
    "df.loc[df['Category'] == 'ham', 'Category'] = 0\n",
    "df['Category'] = df['Category'].astype(int)\n",
    "\n",
    "# Apply text cleaning\n",
    "df['Message'] = df['Message'].apply(clean_text)\n",
    "\n",
    "# Separate features & labels\n",
    "X = df['Message']\n",
    "y = df['Category']\n",
    "\n",
    "# Split into training & testing sets\n",
    "X_train, X_test, y_train, y_test = train_test_split(X, y, test_size=0.2, random_state=3)\n",
    "\n",
    "# TF-IDF vectorization (Improved)\n",
    "vectorizer = TfidfVectorizer(min_df=5, max_df=0.8, stop_words='english', ngram_range=(1,2))\n",
    "X_train_features = vectorizer.fit_transform(X_train)\n",
    "X_test_features = vectorizer.transform(X_test)\n",
    "\n",
    "# Train Logistic Regression Model\n",
    "model = LogisticRegression(class_weight='balanced')\n",
    "model.fit(X_train_features, y_train)\n",
    "\n",
    "# Make Predictions\n",
    "y_pred = model.predict(X_test_features)\n",
    "\n",
    "# Evaluate the Model\n",
    "accuracy = accuracy_score(y_test, y_pred)\n",
    "print(f'Accuracy: {accuracy:.2f}')\n",
    "print(classification_report(y_test, y_pred))\n",
    "\n",
    "# Save the model & vectorizer\n",
    "joblib.dump(model, 'spam_model.pkl')\n",
    "joblib.dump(vectorizer, 'vectorizer.pkl')\n",
    "\n",
    "# Load Model & Test a New Message\n",
    "model = joblib.load('spam_model.pkl')\n",
    "vectorizer = joblib.load('vectorizer.pkl')\n",
    "\n",
    "new_message = ['FreeMsg Hey there darling, it’s been 3 weeks now and no word back!']\n",
    "new_message_features = vectorizer.transform(new_message)\n",
    "\n",
    "prob = model.predict_proba(new_message_features)[0][1]  # Spam probability\n",
    "\n",
    "if prob > 0.5:\n",
    "    print(f\"The message is SPAM with {prob*100:.2f}% confidence.\")\n",
    "else:\n",
    "    print(f\"The message is NOT spam with {100 - prob*100:.2f}% confidence.\")"
   ]
  },
  {
   "cell_type": "code",
   "execution_count": 21,
   "id": "ff320f9d-cd91-440e-9d1d-fc398d4f2251",
   "metadata": {},
   "outputs": [
    {
     "name": "stdout",
     "output_type": "stream",
     "text": [
      "Model and vectorizer saved successfully!\n"
     ]
    }
   ],
   "source": [
    "import pickle\n",
    "\n",
    "# Save the trained model\n",
    "with open(\"spam_model.pkl\", \"wb\") as model_file:\n",
    "    pickle.dump(model, model_file)\n",
    "\n",
    "# Save the TfidfVectorizer\n",
    "with open(\"vectorizer.pkl\", \"wb\") as vectorizer_file:\n",
    "    pickle.dump(vectorizer, vectorizer_file)\n",
    "\n",
    "print(\"Model and vectorizer saved successfully!\")\n"
   ]
  },
  {
   "cell_type": "code",
   "execution_count": null,
   "id": "b5fb0a2c-c71b-4410-864a-bf1c22b7d0d1",
   "metadata": {},
   "outputs": [],
   "source": []
  }
 ],
 "metadata": {
  "kernelspec": {
   "display_name": "Python 3 (ipykernel)",
   "language": "python",
   "name": "python3"
  },
  "language_info": {
   "codemirror_mode": {
    "name": "ipython",
    "version": 3
   },
   "file_extension": ".py",
   "mimetype": "text/x-python",
   "name": "python",
   "nbconvert_exporter": "python",
   "pygments_lexer": "ipython3",
   "version": "3.10.11"
  }
 },
 "nbformat": 4,
 "nbformat_minor": 5
}
